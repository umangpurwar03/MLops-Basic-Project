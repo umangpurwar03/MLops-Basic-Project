{
  "cells": [
    {
      "cell_type": "code",
      "execution_count": 4,
      "metadata": {
        "id": "sD-Y1s3oQarV"
      },
      "outputs": [],
      "source": [
        "# Import necessary libraries\n",
        "import pandas as pd\n",
        "from sklearn.linear_model import LinearRegression\n",
        "\n",
        "# Load the training dataset\n",
        "train_data = pd.read_csv(r'data\\Train.csv')\n",
        "\n",
        "# Load the testing dataset\n",
        "test_data = pd.read_csv(r'data\\Test.csv')\n",
        "\n",
        "# Feature selection and preprocessing for training data\n",
        "X_train = train_data[['gross', 'genre', 'budget']]  # Select relevant features\n",
        "y_train = train_data['rating']  # Target variable\n",
        "\n",
        "# Feature selection and preprocessing for testing data\n",
        "X_test = test_data[['gross', 'genre', 'budget']]  # Select the same features for consistency\n",
        "# Note: You do not have the true target values (ratings) for the testing data.\n",
        "\n",
        "# Initialize and train the Linear Regression model\n",
        "model = LinearRegression()\n",
        "model.fit(X_train, y_train)\n",
        "\n",
        "# Make predictions on the test data (testing dataset doesn't have actual ratings)\n",
        "y_pred = model.predict(X_test)\n",
        "\n",
        "# Create a DataFrame with serial numbers and predicted ratings\n",
        "predictions_df = pd.DataFrame({\n",
        "    'Serial': test_data['serial'],  # Assuming the serial number column in your test data is named 'serial'\n",
        "    'Predicted_Rating': y_pred\n",
        "})\n",
        "\n",
        "# Save the DataFrame to a CSV file\n",
        "predictions_df.to_csv('FlickBayPredictions.csv', index=False)\n",
        "\n",
        "# Confirm that the file has been saved\n",
        "print(\"Predictions saved to 'FlickBayPredictions.csv'\")\n"
      ]
    },
    {
      "cell_type": "code",
      "execution_count": 6,
      "metadata": {
        "colab": {
          "base_uri": "https://localhost:8080/"
        },
        "id": "KeeXhR9tRoX8",
        "outputId": "392ba4dc-494e-46f1-939d-a184408526d0"
      },
      "outputs": [
        {
          "name": "stdout",
          "output_type": "stream",
          "text": [
            "Predictions saved to 'FlickBayPredictions.csv'\n"
          ]
        }
      ],
      "source": []
    }
  ],
  "metadata": {
    "colab": {
      "provenance": []
    },
    "kernelspec": {
      "display_name": "Python 3",
      "name": "python3"
    },
    "language_info": {
      "codemirror_mode": {
        "name": "ipython",
        "version": 3
      },
      "file_extension": ".py",
      "mimetype": "text/x-python",
      "name": "python",
      "nbconvert_exporter": "python",
      "pygments_lexer": "ipython3",
      "version": "3.8.10"
    }
  },
  "nbformat": 4,
  "nbformat_minor": 0
}
